{
 "cells": [
  {
   "cell_type": "markdown",
   "metadata": {
    "id": "9JWtSYXRwG0L"
   },
   "source": [
    "##MDS"
   ]
  },
  {
   "cell_type": "code",
   "execution_count": 1,
   "metadata": {
    "id": "Vuj37uUU-2J-"
   },
   "outputs": [],
   "source": [
    "import numpy as np"
   ]
  },
  {
   "cell_type": "code",
   "execution_count": 14,
   "metadata": {
    "id": "E6RkSaynQ1tD"
   },
   "outputs": [],
   "source": [
    "D=np.array([[1.00,0.52,0.34,0.81,0.28,0.06,0.11],\r\n",
    "      [0.52,1.00,0.55,0.70,0.68,0.60,0.44],\r\n",
    "      [0.34,0.55,1.00,0.56,0.62,0.44,0.62],\r\n",
    "      [0.81,0.70,0.56,1.00,0.52,0.32,0.33],\r\n",
    "      [0.28,0.68,0.62,0.52,1.00,0.80,0.70],\r\n",
    "      [0.06,0.60,0.44,0.32,0.80,1.00,0.55],\r\n",
    "      [0.11,0.44,0.62,0.33,0.70,0.55,1.00]])\r\n",
    "D=-(D-1)"
   ]
  },
  {
   "cell_type": "code",
   "execution_count": 3,
   "metadata": {
    "id": "3ftzTaTKnrup"
   },
   "outputs": [],
   "source": [
    "D=np.array([[0,93,82,133],\r\n",
    "      [93,0,52,60],\r\n",
    "      [82,52,0,111],\r\n",
    "      [133,60,111,0]])"
   ]
  },
  {
   "cell_type": "code",
   "execution_count": 2,
   "metadata": {
    "id": "U49Sk_UyoE-n"
   },
   "outputs": [],
   "source": [
    "D=np.array([[0,1,4,5,3,4,2,8,8,5,7,1],\r\n",
    "      [1,0,3,8,2,6,2,7,8,8,7,2],\r\n",
    "      [4,3,0,7,2,3,3,7,8,6,4,3],\r\n",
    "      [5,8,7,0,8,9,3,8,2,2,9,5],\r\n",
    "      [3,2,2,8,0,6,4,8,9,6,4,2],\r\n",
    "      [4,6,3,9,6,0,1,3,9,8,5,3],\r\n",
    "      [2,2,3,3,4,1,0,4,3,6,7,1],\r\n",
    "      [8,7,7,8,8,3,4,0,9,6,9,5],\r\n",
    "      [8,8,8,2,9,9,3,9,0,4,9,9],\r\n",
    "      [5,8,6,2,6,8,6,6,4,0,4,3],\r\n",
    "      [7,7,4,9,4,5,7,9,9,4,0,6],\r\n",
    "      [1,2,3,5,2,3,1,5,9,3,6,0]])"
   ]
  },
  {
   "cell_type": "code",
   "execution_count": 5,
   "metadata": {
    "id": "dLOj9Ogv-2KH"
   },
   "outputs": [],
   "source": [
    "D = np.array([[0,411,213,219,296,397],\n",
    "        [411,0,204,203,120,152],\n",
    "        [213,204,0,73,136,245],\n",
    "        [219,203,73,0,90,191],\n",
    "        [296,120,136,90,0,109],\n",
    "        [397,152,245,191,109,0]])"
   ]
  },
  {
   "cell_type": "code",
   "execution_count": 3,
   "metadata": {
    "colab": {
     "base_uri": "https://localhost:8080/",
     "height": 775
    },
    "id": "1pO6QJzO-2KM",
    "outputId": "12fbcd2a-a202-4af6-b57d-a66d283068f8"
   },
   "outputs": [
    {
     "name": "stdout",
     "output_type": "stream",
     "text": [
      "[[-0.83336875 -0.74115684]\n",
      " [-2.22680719 -0.07998202]\n",
      " [-2.07405074 -1.00114189]\n",
      " [ 5.07066812 -0.1657739 ]\n",
      " [-2.6507466  -2.38981199]\n",
      " [-3.07160662  2.56188468]\n",
      " [ 0.73063436  1.88579001]\n",
      " [-0.42244533  4.97891594]\n",
      " [ 5.87690802 -0.17457161]\n",
      " [ 3.05123922 -1.69500176]\n",
      " [-1.96427892 -3.55828163]\n",
      " [-1.48614555  0.37913101]]\n",
      "original distance \tnew distance\n",
      "1 \t\t 1.5423432908243155\n",
      "4 \t\t 1.2676292914258842\n",
      "5 \t\t 5.932007838129663\n",
      "3 \t\t 2.4537575333948154\n",
      "4 \t\t 3.9899614059227932\n",
      "2 \t\t 3.057279097780211\n",
      "8 \t\t 5.734813916434202\n",
      "8 \t\t 6.734154234574446\n",
      "5 \t\t 3.9999999028365\n",
      "7 \t\t 3.0356465368733234\n",
      "1 \t\t 1.2965964719922738\n",
      "3 \t\t 0.9337398093112076\n",
      "8 \t\t 7.297979600916436\n",
      "2 \t\t 2.3484120388047485\n",
      "6 \t\t 2.773652054650817\n",
      "2 \t\t 3.55115758618586\n",
      "7 \t\t 5.37104927327046\n",
      "8 \t\t 8.104267241002228\n",
      "8 \t\t 5.519607112206438\n",
      "7 \t\t 3.488192837583474\n",
      "2 \t\t 0.8714151927905848\n",
      "7 \t\t 7.193389142970727\n",
      "2 \t\t 1.5036564655057787\n",
      "3 \t\t 3.7000372998448836\n",
      "3 \t\t 4.025001152664224\n",
      "7 \t\t 6.20394165246914\n",
      "8 \t\t 7.993807836023189\n",
      "6 \t\t 5.1720439575657435\n",
      "4 \t\t 2.5594947794637455\n",
      "3 \t\t 1.5002619014809386\n",
      "8 \t\t 8.035333893235013\n",
      "9 \t\t 8.58701108361774\n",
      "3 \t\t 4.800500759125938\n",
      "8 \t\t 7.526096524685784\n",
      "2 \t\t 0.8062878988323212\n",
      "2 \t\t 2.5331069786844416\n",
      "9 \t\t 7.810223344931378\n",
      "5 \t\t 6.579416915489861\n",
      "6 \t\t 4.969549579702734\n",
      "4 \t\t 5.451101688956294\n",
      "8 \t\t 7.6982775879843635\n",
      "9 \t\t 8.810685744957361\n",
      "6 \t\t 5.744162560061505\n",
      "4 \t\t 1.3551970978036052\n",
      "2 \t\t 3.003887633771592\n",
      "1 \t\t 3.861883023252379\n",
      "3 \t\t 3.586097556686929\n",
      "9 \t\t 9.357569525328728\n",
      "8 \t\t 7.457232953060105\n",
      "5 \t\t 6.219534569534373\n",
      "3 \t\t 2.6977954675792066\n",
      "4 \t\t 3.301063584040165\n",
      "3 \t\t 5.543394506301801\n",
      "6 \t\t 4.266998546031784\n",
      "7 \t\t 6.074576002510891\n",
      "1 \t\t 2.680323584946719\n",
      "9 \t\t 8.13881358780191\n",
      "6 \t\t 7.523806334605437\n",
      "9 \t\t 8.675309399124453\n",
      "5 \t\t 4.721173538096257\n",
      "4 \t\t 3.208755526340847\n",
      "9 \t\t 8.540123314369737\n",
      "9 \t\t 7.383843481984148\n",
      "4 \t\t 5.350442421666351\n",
      "3 \t\t 4.988976577268748\n",
      "6 \t\t 3.966337076583061\n"
     ]
    },
    {
     "data": {
      "text/plain": [
       "<matplotlib.collections.PathCollection at 0x3c6a130>"
      ]
     },
     "execution_count": 3,
     "metadata": {},
     "output_type": "execute_result"
    },
    {
     "data": {
      "image/png": "[encoded data removed]",
      "text/plain": [
       "<Figure size 432x288 with 1 Axes>"
      ]
     },
     "metadata": {
      "needs_background": "light"
     },
     "output_type": "display_data"
    }
   ],
   "source": [
    "import numpy as np\n",
    "import matplotlib.pyplot as plt\n",
    "\n",
    "N = D.shape[0]\n",
    "T = np.zeros((N,N))\n",
    "J = np.eye(N) - 1/N\n",
    "D2 = D**2\n",
    "B = -0.5*np.dot(np.dot(J,D2),J)\n",
    "eigVal,eigVec = np.linalg.eig(B) \n",
    "X = np.dot(eigVec[:,:2],np.diag(np.sqrt(eigVal[:2]))) \n",
    "\n",
    "print(X)\n",
    "\n",
    "print('original distance','\\tnew distance')\n",
    "for i in range(N):\n",
    "    for j in range(i+1,N):\n",
    "        print(np.str(D[i,j]),'\\t\\t',np.linalg.norm(X[i]-X[j]))\n",
    "plt.scatter(X[:,0],X[:,1])"
   ]
  },
  {
   "cell_type": "markdown",
   "metadata": {
    "id": "PEOxyEKkv8XB"
   },
   "source": [
    "## NMDS"
   ]
  },
  {
   "cell_type": "code",
   "execution_count": 7,
   "metadata": {
    "id": "f77D0Brys7bp"
   },
   "outputs": [],
   "source": [
    "A = []\r\n",
    "d = []"
   ]
  },
  {
   "cell_type": "code",
   "execution_count": 8,
   "metadata": {
    "colab": {
     "base_uri": "https://localhost:8080/"
    },
    "id": "u4S1shwxrjoT",
    "outputId": "0f0bfbb1-6d4a-4397-8ba9-81af29c576ed"
   },
   "outputs": [
    {
     "name": "stdout",
     "output_type": "stream",
     "text": [
      "[]\n",
      "[]\n"
     ]
    }
   ],
   "source": [
    "print(A)\r\n",
    "print(d)"
   ]
  },
  {
   "cell_type": "code",
   "execution_count": 9,
   "metadata": {
    "id": "GTFlyBVInJs0"
   },
   "outputs": [],
   "source": [
    "for k in range(1,N):\r\n",
    "  for i in range(N):\r\n",
    "    for j in range(i+1,N):\r\n",
    "      if D[i,j]==k:\r\n",
    "        A.append(D[i,j])\r\n",
    "        d.append(np.linalg.norm(X[i]-X[j]))\r\n",
    "    #print('s',i,j,'=',D[i,j])"
   ]
  },
  {
   "cell_type": "code",
   "execution_count": 10,
   "metadata": {
    "id": "G9k7TIJkqwAm"
   },
   "outputs": [],
   "source": [
    "s=[0,1,2,4,3,5,8,7,6,9]"
   ]
  },
  {
   "cell_type": "code",
   "execution_count": 11,
   "metadata": {
    "colab": {
     "base_uri": "https://localhost:8080/"
    },
    "id": "zO-LeCBOyNWB",
    "outputId": "6cd02168-1652-4c26-a913-34daa5a1848d"
   },
   "outputs": [
    {
     "data": {
      "text/plain": [
       "1"
      ]
     },
     "execution_count": 11,
     "metadata": {},
     "output_type": "execute_result"
    }
   ],
   "source": [
    "s[1]"
   ]
  },
  {
   "cell_type": "code",
   "execution_count": 12,
   "metadata": {
    "id": "36hfvaicyEyq"
   },
   "outputs": [
    {
     "name": "stdout",
     "output_type": "stream",
     "text": [
      "0\n",
      "1\n",
      "2\n",
      "4\n",
      "3\n",
      "5\n",
      "8\n",
      "7\n",
      "6\n",
      "9\n"
     ]
    }
   ],
   "source": [
    "for i in range(10):\r\n",
    "  print(s[i])"
   ]
  },
  {
   "cell_type": "code",
   "execution_count": null,
   "metadata": {
    "id": "kLB9wcHjEmKr"
   },
   "outputs": [],
   "source": []
  }
 ],
 "metadata": {
  "colab": {
   "collapsed_sections": [],
   "name": "MDS",
   "provenance": []
  },
  "kernelspec": {
   "display_name": "Python 3",
   "language": "python",
   "name": "python3"
  },
  "language_info": {
   "codemirror_mode": {
    "name": "ipython",
    "version": 3
   },
   "file_extension": ".py",
   "mimetype": "text/x-python",
   "name": "python",
   "nbconvert_exporter": "python",
   "pygments_lexer": "ipython3",
   "version": "3.8.0"
  }
 },
 "nbformat": 4,
 "nbformat_minor": 4
}
