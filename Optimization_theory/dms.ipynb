{
 "cells": [
  {
   "cell_type": "code",
   "execution_count": 1,
   "metadata": {},
   "outputs": [],
   "source": [
    "import numpy as np"
   ]
  },
  {
   "cell_type": "code",
   "execution_count": 2,
   "metadata": {},
   "outputs": [],
   "source": [
    "D = np.array([[0,411,213,219,296,397],\n",
    "            [411,0,204,203,120,152],\n",
    "            [213,204,0,73,136,245],\n",
    "            [219,203,73,0,90,191],\n",
    "            [296,120,136,90,0,109],\n",
    "            [ 397,152,245,191,109,0]])"
   ]
  },
  {
   "cell_type": "code",
   "execution_count": 3,
   "metadata": {},
   "outputs": [],
   "source": [
    "N = D.shape[0]"
   ]
  },
  {
   "cell_type": "code",
   "execution_count": 4,
   "metadata": {},
   "outputs": [],
   "source": [
    "T = np.zeros((N,N))"
   ]
  },
  {
   "cell_type": "code",
   "execution_count": 5,
   "metadata": {},
   "outputs": [
    {
     "name": "stdout",
     "output_type": "stream",
     "text": [
      "original distance \tnew distance\n",
      "411 \t\t 411.0730\n",
      "213 \t\t 213.3703\n",
      "219 \t\t 216.1111\n",
      "296 \t\t 299.8839\n",
      "397 \t\t 396.5059\n",
      "204 \t\t 206.0970\n",
      "203 \t\t 200.8076\n",
      "120 \t\t 132.0087\n",
      "152 \t\t 151.6636\n",
      "73 \t\t 76.6109\n",
      "136 \t\t 132.5989\n",
      "245 \t\t 246.1059\n",
      "90 \t\t 84.4350\n",
      "191 \t\t 190.9788\n",
      "109 \t\t 113.5375\n"
     ]
    }
   ],
   "source": [
    "#solution 1\n",
    "#ss = 1.0/N**2*np.sum(D**2)\n",
    "#for i in range(N):\n",
    "#    for j in range(i,N):       \n",
    "#        T[i,j] = T[j,i] = -0.5*(D[i,j]**2 -1.0/N*np.dot(D[i,:],D[i,:]) -1.0/N*np.dot(D[:,j],D[:,j])+ss)\n",
    "\n",
    "#solution 2\n",
    "#K = np.dot(D,np.transpose(D))\n",
    "D2 = D**2\n",
    "H = np.eye(N) - 1/N\n",
    "T = -0.5*np.dot(np.dot(H,D2),H)\n",
    "\n",
    "eigVal,eigVec = np.linalg.eig(T) \n",
    "X = np.dot(eigVec[:,:2],np.diag(np.sqrt(eigVal[:2]))) \n",
    "\n",
    "print('original distance','\\tnew distance')\n",
    "for i in range(N):\n",
    "    for j in range(i+1,N):\n",
    "        print(np.str(D[i,j]),'\\t\\t',np.str(\"%.4f\"%np.linalg.norm(X[i]-X[j])))"
   ]
  },
  {
   "cell_type": "code",
   "execution_count": 8,
   "metadata": {},
   "outputs": [
    {
     "name": "stdout",
     "output_type": "stream",
     "text": [
      "[[-62.83107784  32.9744814 ]\n",
      " [ 18.40288902 -12.02696922]\n",
      " [-24.96018328 -39.71090964]\n",
      " [ 69.38837211  18.76339745]]\n",
      "original distance \tnew distance\n",
      "93 \t\t 92.8660\n",
      "82 \t\t 81.9596\n",
      "133 \t\t 132.9810\n",
      "52 \t\t 51.4466\n",
      "60 \t\t 59.5614\n",
      "111 \t\t 110.9995\n"
     ]
    }
   ],
   "source": [
    "import numpy as np\n",
    "\n",
    "D=np.array([[0,93,82,133],\n",
    "            [93,0,52,60],\n",
    "            [82,52,0,111],\n",
    "            [133,60,111,0]])\n",
    "\n",
    "N = D.shape[0]\n",
    "T = np.zeros((N,N))\n",
    "\n",
    "#solution 1\n",
    "#ss = 1.0/N**2*np.sum(D**2)\n",
    "#for i in range(N):\n",
    "#    for j in range(i,N):       \n",
    "#        T[i,j] = T[j,i] = -0.5*(D[i,j]**2 -1.0/N*np.dot(D[i,:],D[i,:]) -1.0/N*np.dot(D[:,j],D[:,j])+ss)\n",
    "\n",
    "#solution 2\n",
    "#K = np.dot(D,np.transpose(D))\n",
    "D2 = D**2\n",
    "H = np.eye(N) - 1/N\n",
    "T = -0.5*np.dot(np.dot(H,D2),H)\n",
    "\n",
    "eigVal,eigVec = np.linalg.eig(T) \n",
    "X = np.dot(eigVec[:,:2],np.diag(np.sqrt(eigVal[:2]))) \n",
    "print(X)\n",
    "\n",
    "print('original distance','\\tnew distance')\n",
    "for i in range(N):\n",
    "    for j in range(i+1,N):\n",
    "        print(np.str(D[i,j]),'\\t\\t',np.str(\"%.4f\"%np.linalg.norm(X[i]-X[j])))"
   ]
  },
  {
   "cell_type": "code",
   "execution_count": 3,
   "metadata": {},
   "outputs": [
    {
     "name": "stdout",
     "output_type": "stream",
     "text": [
      "[[-62.83107784  32.9744814 ]\n",
      " [ 18.40288902 -12.02696922]\n",
      " [-24.96018328 -39.71090964]\n",
      " [ 69.38837211  18.76339745]]\n",
      "original distance \tnew distance\n",
      "93 \t\t 92.8660\n",
      "82 \t\t 81.9596\n",
      "133 \t\t 132.9810\n",
      "52 \t\t 51.4466\n",
      "60 \t\t 59.5614\n",
      "111 \t\t 110.9995\n"
     ]
    }
   ],
   "source": [
    "import numpy as np\n",
    "import matplotlib.pyplot as plt\n",
    "\n",
    "D=np.array([[0,93,82,133],\n",
    "            [93,0,52,60],\n",
    "            [82,52,0,111],\n",
    "            [133,60,111,0]])\n",
    "\n",
    "N = D.shape[0]\n",
    "# T = np.zeros((N,N))\n",
    "\n",
    "#solution 1\n",
    "#ss = 1.0/N**2*np.sum(D**2)\n",
    "#for i in range(N):\n",
    "#    for j in range(i,N):       \n",
    "#        T[i,j] = T[j,i] = -0.5*(D[i,j]**2 -1.0/N*np.dot(D[i,:],D[i,:]) -1.0/N*np.dot(D[:,j],D[:,j])+ss)\n",
    "\n",
    "#solution 2\n",
    "#K = np.dot(D,np.transpose(D))\n",
    "D2 = D**2\n",
    "J = np.eye(N) - 1/N\n",
    "B = -0.5*np.dot(np.dot(J,D2),J)\n",
    "\n",
    "eigVal,eigVec = np.linalg.eig(B) \n",
    "X = np.dot(eigVec[:,:2],np.diag(np.sqrt(eigVal[:2]))) \n",
    "\n",
    "print(X)\n",
    "\n",
    "print('original distance','\\tnew distance')\n",
    "for i in range(N):\n",
    "    for j in range(i+1,N):\n",
    "        print(np.str(D[i,j]),'\\t\\t',np.str(\"%.4f\"%np.linalg.norm(X[i]-X[j])))\n",
    "        "
   ]
  },
  {
   "cell_type": "code",
   "execution_count": 5,
   "metadata": {},
   "outputs": [
    {
     "data": {
      "text/plain": [
       "array([[ 0.75, -0.25, -0.25, -0.25],\n",
       "       [-0.25,  0.75, -0.25, -0.25],\n",
       "       [-0.25, -0.25,  0.75, -0.25],\n",
       "       [-0.25, -0.25, -0.25,  0.75]])"
      ]
     },
     "execution_count": 5,
     "metadata": {},
     "output_type": "execute_result"
    }
   ],
   "source": [
    "J"
   ]
  },
  {
   "cell_type": "code",
   "execution_count": 4,
   "metadata": {},
   "outputs": [
    {
     "data": {
      "image/png": "[encoded data removed]",
      "text/plain": [
       "<Figure size 432x288 with 1 Axes>"
      ]
     },
     "metadata": {
      "needs_background": "light"
     },
     "output_type": "display_data"
    }
   ],
   "source": [
    "x = []\n",
    "y = []\n",
    "\n",
    "for i in range(4):\n",
    "    x.append(X[i][0])\n",
    "    y.append(X[i][1])\n",
    "    \n",
    "plt.scatter(x,y, s=40, c='b')\n",
    "plt.title(\"MDS map\", fontsize=24) #圖表標題\n",
    "plt.xlabel(\"?\", fontsize=16) #x軸標題\n",
    "plt.ylabel(\"?\", fontsize=16) #y軸標題\n",
    "plt.show() #顯示繪製的圖形"
   ]
  },
  {
   "cell_type": "code",
   "execution_count": null,
   "metadata": {},
   "outputs": [],
   "source": []
  }
 ],
 "metadata": {
  "kernelspec": {
   "display_name": "Python 3",
   "language": "python",
   "name": "python3"
  },
  "language_info": {
   "codemirror_mode": {
    "name": "ipython",
    "version": 3
   },
   "file_extension": ".py",
   "mimetype": "text/x-python",
   "name": "python",
   "nbconvert_exporter": "python",
   "pygments_lexer": "ipython3",
   "version": "3.8.0"
  }
 },
 "nbformat": 4,
 "nbformat_minor": 4
}
